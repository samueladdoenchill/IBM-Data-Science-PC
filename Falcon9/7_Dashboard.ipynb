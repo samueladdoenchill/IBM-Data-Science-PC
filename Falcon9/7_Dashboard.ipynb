{
 "cells": [
  {
   "cell_type": "markdown",
   "id": "95d68ff2",
   "metadata": {},
   "source": [
    "#   **SpaceX  Falcon 9 First Stage Landing Prediction**"
   ]
  },
  {
   "cell_type": "markdown",
   "id": "9b565039",
   "metadata": {},
   "source": [
    "## Step 7:  Dashboard Presentation Using Plotly Dash"
   ]
  },
  {
   "cell_type": "markdown",
   "id": "d859e4f0",
   "metadata": {},
   "source": [
    "### Objective\n",
    "\n",
    "This dashboard application contains input components such as a dropdown list \n",
    "and a range slider to interact with a pie chart and a scatter point chart. We will:\n",
    "<ol>\n",
    "<li>Add a Launch Site Drop-down Input Component</li>\n",
    "<li>Add a callback function to render success-pie-chart based on selected site dropdown</li>\n",
    "<li>Add a Range Slider to Select Payload</li>\n",
    "<li>Add a callback function to render the success-payload-scatter-chart scatter plot</li>\n",
    "</ol>"
   ]
  },
  {
   "cell_type": "markdown",
   "id": "24bd548f",
   "metadata": {},
   "source": [
    "### The whole program below has to be run in a terminal "
   ]
  },
  {
   "cell_type": "code",
   "execution_count": null,
   "id": "01e634ca",
   "metadata": {},
   "outputs": [],
   "source": [
    "\n",
    "\n",
    "# ! pip install dash\n",
    "# ! pip install plotly\n",
    "\n",
    "# Import required libraries\n",
    "import pandas as pd\n",
    "import dash\n",
    "import dash_html_components as html\n",
    "import dash_core_components as dcc\n",
    "from dash.dependencies import Input, Output\n",
    "import plotly.express as px\n",
    "\n",
    "\n",
    "# Read the airline data into pandas dataframe\n",
    "\n",
    "spacex_df = pd.read_csv(\"spacex_launch_dash.csv\")\n",
    "max_payload = spacex_df['Payload Mass (kg)'].max()\n",
    "min_payload = spacex_df['Payload Mass (kg)'].min()\n",
    "\n",
    "\n",
    "# Create a dash application\n",
    "app = dash.Dash(__name__)\n",
    "\n",
    "# Create an app layout\n",
    "app.layout = html.Div(children=[html.H1('SpaceX Launch Records Dashboard',\n",
    "                                        style={'textAlign': 'center', 'color': '#503D36',\n",
    "                                               'font-size': 40}),\n",
    "                                # 1: Add a dropdown list to enable Launch Site selection\n",
    "                                # The default select value is for ALL sites\n",
    "                                dcc.Dropdown(id='site-dropdown', \n",
    "                                    options=[{'label':'All Sites', 'value':'ALL'},\n",
    "                                            {'label':'Cape Canaveral Space Launch Complex 40', 'value': 'CCAFS LC-40'},\n",
    "                                            {'label':'Cape Canaveral Space Launch Complex 40 New', 'value': 'CCAFS SLC-40'},\n",
    "                                            {'label':'Kennedy Space Center Launch Complex 39', 'value': 'KSC LC-39A'},\n",
    "                                            {'label':'Vandenberg Space Launch Complex 4','value':'VAFB SLC-4E'}],\n",
    "                                    placeholder=\"Select a Launch Site here\", \n",
    "                                    value = 'ALL',\n",
    "                                    clearable = False,\n",
    "                                    searchable=True),\n",
    "                                html.Br(),\n",
    "\n",
    "                                # 2: Add a pie chart to show the total successful launches count for all sites\n",
    "                                # If a specific launch site was selected, show the Success vs. Failed counts for the site\n",
    "                                html.Div(dcc.Graph(id='success-pie-chart')),\n",
    "                                html.Br(),\n",
    "\n",
    "                                html.P(\"Payload range (Kg):\"),\n",
    "                                # 3: Add a slider to select payload range\n",
    "                                dcc.RangeSlider(id='payload-slider',min=0, max=10000, step=1000,value=(min_payload, max_payload)),\n",
    "\n",
    "                                # 4: Add a scatter chart to show the correlation between payload and launch success\n",
    "                                #dcc.Graph(id='success-payload-scatter-chart', figure={}),\n",
    "                                html.Div(dcc.Graph(id='success-payload-scatter-chart')),\n",
    "                                ])\n",
    "\n",
    "# 2: Add a callback function for `site-dropdown` as input, `success-pie-chart` as output\n",
    "\n",
    "@app.callback(\n",
    "    Output(component_id='success-pie-chart', component_property='figure'),\n",
    "    [Input(component_id='site-dropdown', component_property='value')]\n",
    ")\n",
    "def update_graph(option_std):\n",
    "    print(option_std)\n",
    "    print(type(option_std))\n",
    "\n",
    "    df = spacex_df.copy()\n",
    "    \n",
    "    if option_std == 'ALL':\n",
    "        df0 = df[df['class']==1]\n",
    "        fig = px.pie(df0, values='class', names='Launch Site')\n",
    "    else:\n",
    "        df1 = df[df['Launch Site']== option_std]\n",
    "        fig = px.pie(df1, names='class')\n",
    "\n",
    "    # fig.show()\n",
    "    return fig\n",
    "\n",
    "# 4: Add a callback function for `site-dropdown` and `payload-slider` as inputs, `success-payload-scatter-chart` as output\n",
    "\n",
    "@app.callback(\n",
    "    Output(component_id='success-payload-scatter-chart', component_property='figure'),\n",
    "    [Input(component_id='site-dropdown', component_property='value'),\n",
    "    Input(component_id=\"payload-slider\", component_property=\"value\")]\n",
    ")\n",
    "def update_graph(option_std, sliderx):\n",
    "\n",
    "    df2 = spacex_df.copy()\n",
    "    df2 = df2[(df2['Payload Mass (kg)'] > sliderx[0]) & (df2['Payload Mass (kg)'] < sliderx[1])]\n",
    "    if option_std == 'ALL':\n",
    "        fig = px.scatter(df2, x='Payload Mass (kg)', y='class', color=\"Booster Version Category\")\n",
    "    else:\n",
    "        df3 = df2[df2['Launch Site']== option_std]\n",
    "        fig = px.scatter(df3, x='Payload Mass (kg)', y='class', color=\"Booster Version Category\")\n",
    " \n",
    "    # fig.show()\n",
    "    return fig\n",
    "\n",
    "\n",
    "# Run the app\n",
    "if __name__ == '__main__':\n",
    "    app.run_server()\n"
   ]
  },
  {
   "cell_type": "markdown",
   "id": "1eaa3f91",
   "metadata": {},
   "source": [
    "## Acknowledgement:\n",
    "This notebook is based on the template prepared by Yan Luo and Joseph Santarcangelo of the IBM Corporation for the Applied Data Analysis Capstone Project."
   ]
  }
 ],
 "metadata": {
  "kernelspec": {
   "display_name": "Python 3 (ipykernel)",
   "language": "python",
   "name": "python3"
  },
  "language_info": {
   "codemirror_mode": {
    "name": "ipython",
    "version": 3
   },
   "file_extension": ".py",
   "mimetype": "text/x-python",
   "name": "python",
   "nbconvert_exporter": "python",
   "pygments_lexer": "ipython3",
   "version": "3.9.6"
  }
 },
 "nbformat": 4,
 "nbformat_minor": 5
}
